{
 "cells": [
  {
   "cell_type": "code",
   "execution_count": 5,
   "metadata": {},
   "outputs": [
    {
     "name": "stdout",
     "output_type": "stream",
     "text": [
      "The question of the meaning of life is one of the most profound and debated topics in human history. It has been explored by philosophers, theologians, scientists, and countless individuals across cultures and time. There is no definitive answer, but here are some perspectives to consider:\n",
      "\n",
      "1. **Existentialism**: This philosophical perspective suggests that life has no inherent meaning. We must create our own purpose and give our lives meaning through our choices, actions, and relationships.\n",
      "2. **Religious or Spiritual Beliefs**: Many people find meaning in their faith or spiritual practices. Their beliefs provide a framework for understanding the world, themselves, and their place in it.\n",
      "3. **Personal Growth and Self-Actualization**: Some argue that life's meaning lies in realizing one's full potential, pursuing passions, and cultivating meaningful relationships.\n",
      "4. **Biological Imperatives**: From a biological perspective, human beings have an innate drive to survive, reproduce, and perpetuate the species.\n",
      "5. **Social and Cultural Context**: Our lives are shaped by societal norms, cultural values, and historical contexts. Meaning can be derived from our connections with others, community, or culture.\n",
      "6. **Self-Discovery and Autonomy**: Some individuals find meaning in exploring their own identity, desires, and goals, exercising autonomy over their choices and decisions.\n",
      "\n",
      "Ultimately, the meaning of life is a deeply personal question that each person must answer for themselves. It may be shaped by a combination of factors, including:\n",
      "\n",
      "* Personal values and beliefs\n",
      "* Cultural and societal influences\n",
      "* Life experiences and challenges\n",
      "* Philosophical or spiritual perspectives\n",
      "\n",
      "To find one's own meaning in life, consider asking yourself:\n",
      "\n",
      "* What brings me joy and fulfillment?\n",
      "* What are my core values and passions?\n",
      "* How do I want to live my life, and what kind of person do I aspire to be?\n",
      "* What do I hope to achieve, and how can I make a positive impact on the world?\n",
      "\n",
      "The journey to discover the meaning of life is ongoing, and it may take time and exploration to find answers that resonate with you."
     ]
    }
   ],
   "source": [
    "import whisper\n",
    "import time\n",
    "import matplotlib.pyplot as plt\n",
    "import numpy as np\n",
    "import ollama\n",
    "from datetime import datetime\n",
    "\n"
   ]
  },
  {
   "cell_type": "markdown",
   "metadata": {},
   "source": [
    "## Take an audio input "
   ]
  },
  {
   "cell_type": "code",
   "execution_count": 7,
   "metadata": {},
   "outputs": [
    {
     "name": "stdout",
     "output_type": "stream",
     "text": [
      "Recording...\n",
      "Recording finished.\n"
     ]
    }
   ],
   "source": [
    "import sounddevice as sd\n",
    "import numpy as np\n",
    "\n",
    "import scipy.io.wavfile as wav\n",
    "\n",
    "# Parameters\n",
    "duration = 10  # seconds\n",
    "fs = 44100  # Sample rate\n",
    "\n",
    "print(\"Recording...\")\n",
    "audio = sd.rec(int(duration * fs), samplerate=fs, channels=2, dtype='int16')\n",
    "sd.wait()  # Wait until recording is finished\n",
    "print(\"Recording finished.\")\n",
    "\n",
    "# Save the audio to a file\n",
    "wav.write('audio/audio_input.wav', fs, audio)"
   ]
  },
  {
   "cell_type": "markdown",
   "metadata": {},
   "source": [
    "# Then ranscribe it using whisper and then store the text file in the data folder"
   ]
  },
  {
   "cell_type": "code",
   "execution_count": 24,
   "metadata": {},
   "outputs": [
    {
     "name": "stdout",
     "output_type": "stream",
     "text": [
      "[00:00.000 --> 00:06.620]  The main idea we'll have to solve is try and create a journal which is easy for people\n",
      "[00:06.620 --> 00:09.260]  to maintain and interact with.\n",
      "[00:09.260 --> 00:14.340]  One of the problems that people face with dealing with a big journal is trying to go\n",
      "[00:14.340 --> 00:15.840]  through it again.\n",
      "[00:15.840 --> 00:19.780]  Imagine that you have a book and then you've been writing it for a very long time.\n",
      "[00:19.780 --> 00:23.020]  You do not have the time to go through it over and over again.\n",
      "[00:23.020 --> 00:27.780]  You need something that has a semantic idea of what you were speaking about on a particular\n",
      "[00:27.780 --> 00:28.780]  day.\n",
      "[00:29.180 --> 00:36.020]  That is where AI comes in and it not only formats and curates your dataset and stores\n",
      "[00:36.020 --> 00:38.300]  it in a vector database locally.\n",
      "[00:38.300 --> 00:40.500]  You can also chat with it.\n",
      "[00:40.500 --> 00:48.420]  This idea is very simple and the innovative aspect is the offline aspect which is completely\n",
      "[00:48.420 --> 00:49.820]  on your device.\n",
      "[00:49.820 --> 00:54.620]  It doesn't go anywhere, it doesn't leave your device and you don't have to worry about\n",
      "[00:54.620 --> 00:55.620]  privacy.\n",
      "--------------------------------------------------\n",
      " The main idea we'll have to solve is try and create a journal which is easy for people to maintain and interact with. One of the problems that people face with dealing with a big journal is trying to go through it again. Imagine that you have a book and then you've been writing it for a very long time. You do not have the time to go through it over and over again. You need something that has a semantic idea of what you were speaking about on a particular day. That is where AI comes in and it not only formats and curates your dataset and stores it in a vector database locally. You can also chat with it. This idea is very simple and the innovative aspect is the offline aspect which is completely on your device. It doesn't go anywhere, it doesn't leave your device and you don't have to worry about privacy.\n"
     ]
    }
   ],
   "source": [
    "model = whisper.load_model(\"base\")\n",
    "\n",
    "def get_transcribe(audio: str, language: str = 'en'):\n",
    "    return model.transcribe(audio=audio, language=language, verbose=False)\n",
    "\n",
    "result = get_transcribe(audio='./audio/idea.m4a')\n",
    "\n",
    "print('-'*50)\n",
    "print(result.get('text', ''))"
   ]
  },
  {
   "cell_type": "markdown",
   "metadata": {},
   "source": [
    "## LLM to format and answer any queries about your Journal"
   ]
  },
  {
   "cell_type": "code",
   "execution_count": 48,
   "metadata": {},
   "outputs": [
    {
     "name": "stdout",
     "output_type": "stream",
     "text": [
      "Time: 2024-09-29 07:25:18\n",
      "\n",
      "\n",
      "Summary: Creating an AI-powered journal for easy maintenance and interaction, utilizing semantic ideas and offline storage.\n",
      "\n",
      "Actual text:\n",
      "The main idea we'll have to solve is try and create a journal which is easy for people to maintain and interact with. One of the problems that people face with dealing with a big journal is trying to go through it again. Imagine that you have a book and then you've been writing it for a very long time. You do not have the time to go through it over and over again. You need something that has a semantic idea of what you were speaking about on a particular day. That is where AI comes in and it not only formats and curates your dataset and stores it in a vector database locally. You can also chat with it. This idea is very simple and the innovative aspect is the offline aspect which is completely on your device. It doesn't go anywhere, it doesn't leave your device and you don't have to worry about privacy."
     ]
    }
   ],
   "source": [
    "MODEL_NAME = \"llama3.2:3b-instruct-q5_0\"\n",
    "\n",
    "task = \"Format the followign text as follows, Summary : maximum 20 word summary, Actual text : actual input text : \" + text\n",
    "\n",
    "stream = ollama.chat(\n",
    "    model=MODEL_NAME,\n",
    "    messages=[{'role': 'user', 'content': task}],\n",
    "    stream=True,\n",
    ")\n",
    "\n",
    "date = datetime.now().strftime('%Y-%m-%d %H:%M:%S') \n",
    "\n",
    "full_output = \"Time: \" + date + \"\\n\\n\"\n",
    "\n",
    "print(full_output)\n",
    "    \n",
    "for chunk in stream:\n",
    "  print(chunk['message']['content'], end='', flush=True)\n",
    "  full_output += chunk['message']['content']\n"
   ]
  },
  {
   "cell_type": "markdown",
   "metadata": {},
   "source": [
    "## Store the text output into a text file in the text folder"
   ]
  },
  {
   "cell_type": "code",
   "execution_count": 55,
   "metadata": {},
   "outputs": [],
   "source": [
    "date = datetime.now().strftime('%Y-%m-%d-%H-%M-%S')\n",
    "# Store the full_output as a text file\n",
    "with open(f'text/entry_{date}.txt', 'w') as file:\n",
    "    file.write(full_output)"
   ]
  },
  {
   "cell_type": "markdown",
   "metadata": {},
   "source": [
    "## Add the new text file to the vector database"
   ]
  },
  {
   "cell_type": "code",
   "execution_count": null,
   "metadata": {},
   "outputs": [],
   "source": []
  }
 ],
 "metadata": {
  "kernelspec": {
   "display_name": "mnlp-a2",
   "language": "python",
   "name": "python3"
  },
  "language_info": {
   "codemirror_mode": {
    "name": "ipython",
    "version": 3
   },
   "file_extension": ".py",
   "mimetype": "text/x-python",
   "name": "python",
   "nbconvert_exporter": "python",
   "pygments_lexer": "ipython3",
   "version": "3.10.12"
  }
 },
 "nbformat": 4,
 "nbformat_minor": 2
}
